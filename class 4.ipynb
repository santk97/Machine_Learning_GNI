{
 "cells": [
  {
   "cell_type": "code",
   "execution_count": 62,
   "metadata": {},
   "outputs": [
    {
     "data": {
      "text/html": [
       "<div>\n",
       "<style scoped>\n",
       "    .dataframe tbody tr th:only-of-type {\n",
       "        vertical-align: middle;\n",
       "    }\n",
       "\n",
       "    .dataframe tbody tr th {\n",
       "        vertical-align: top;\n",
       "    }\n",
       "\n",
       "    .dataframe thead th {\n",
       "        text-align: right;\n",
       "    }\n",
       "</style>\n",
       "<table border=\"1\" class=\"dataframe\">\n",
       "  <thead>\n",
       "    <tr style=\"text-align: right;\">\n",
       "      <th></th>\n",
       "      <th>Country</th>\n",
       "      <th>Age</th>\n",
       "      <th>Salary</th>\n",
       "      <th>Purchased</th>\n",
       "    </tr>\n",
       "  </thead>\n",
       "  <tbody>\n",
       "    <tr>\n",
       "      <th>0</th>\n",
       "      <td>France</td>\n",
       "      <td>44.0</td>\n",
       "      <td>72000.0</td>\n",
       "      <td>No</td>\n",
       "    </tr>\n",
       "    <tr>\n",
       "      <th>1</th>\n",
       "      <td>Spain</td>\n",
       "      <td>27.0</td>\n",
       "      <td>48000.0</td>\n",
       "      <td>Yes</td>\n",
       "    </tr>\n",
       "    <tr>\n",
       "      <th>2</th>\n",
       "      <td>Germany</td>\n",
       "      <td>30.0</td>\n",
       "      <td>54000.0</td>\n",
       "      <td>No</td>\n",
       "    </tr>\n",
       "    <tr>\n",
       "      <th>3</th>\n",
       "      <td>Spain</td>\n",
       "      <td>38.0</td>\n",
       "      <td>61000.0</td>\n",
       "      <td>No</td>\n",
       "    </tr>\n",
       "    <tr>\n",
       "      <th>4</th>\n",
       "      <td>Germany</td>\n",
       "      <td>40.0</td>\n",
       "      <td>NaN</td>\n",
       "      <td>Yes</td>\n",
       "    </tr>\n",
       "  </tbody>\n",
       "</table>\n",
       "</div>"
      ],
      "text/plain": [
       "   Country   Age   Salary Purchased\n",
       "0   France  44.0  72000.0        No\n",
       "1    Spain  27.0  48000.0       Yes\n",
       "2  Germany  30.0  54000.0        No\n",
       "3    Spain  38.0  61000.0        No\n",
       "4  Germany  40.0      NaN       Yes"
      ]
     },
     "execution_count": 62,
     "metadata": {},
     "output_type": "execute_result"
    }
   ],
   "source": [
    "#importing library\n",
    "import pandas as pd\n",
    "#read the csv file\n",
    "df=pd.read_csv('purchase_data_class_4.csv')\n",
    "#display csv\n",
    "df.head()\n"
   ]
  },
  {
   "cell_type": "code",
   "execution_count": 63,
   "metadata": {},
   "outputs": [
    {
     "name": "stdout",
     "output_type": "stream",
     "text": [
      "[['No']\n",
      " ['Yes']\n",
      " ['No']\n",
      " ['No']\n",
      " ['Yes']\n",
      " ['Yes']\n",
      " ['No']\n",
      " ['Yes']\n",
      " ['No']\n",
      " ['Yes']]\n"
     ]
    }
   ],
   "source": [
    "#seperating the labels\n",
    "label=df.iloc[:,3:].values\n",
    "print label\n",
    "\n",
    "#seperating the features\n",
    "features=df.iloc[:,:3].values\n",
    "#print features"
   ]
  },
  {
   "cell_type": "code",
   "execution_count": 64,
   "metadata": {},
   "outputs": [],
   "source": [
    "#check for null values\n",
    "#df.isnull().sum()"
   ]
  },
  {
   "cell_type": "code",
   "execution_count": 65,
   "metadata": {},
   "outputs": [
    {
     "name": "stdout",
     "output_type": "stream",
     "text": [
      "[['France' 44.0 72000.0]\n",
      " ['Spain' 27.0 48000.0]\n",
      " ['Germany' 30.0 54000.0]\n",
      " ['Spain' 38.0 61000.0]\n",
      " ['Germany' 40.0 63777.77777777778]\n",
      " ['France' 35.0 58000.0]\n",
      " ['Spain' 38.77777777777778 52000.0]\n",
      " ['France' 48.0 79000.0]\n",
      " ['Germany' 50.0 83000.0]\n",
      " ['France' 37.0 67000.0]]\n"
     ]
    }
   ],
   "source": [
    "#insert missing values using Imputer\n",
    "from sklearn.preprocessing import Imputer\n",
    "\n",
    "imputer=Imputer(missing_values='NaN',strategy='mean',axis=0)\n",
    "imputer=imputer.fit(features[:,1:3])\n",
    "features[:,1:3]=imputer.transform(features[:,1:3])\n",
    "\n",
    "print features\n"
   ]
  },
  {
   "cell_type": "code",
   "execution_count": 67,
   "metadata": {},
   "outputs": [
    {
     "name": "stdout",
     "output_type": "stream",
     "text": [
      "[[0 44.0 72000.0]\n",
      " [2 27.0 48000.0]\n",
      " [1 30.0 54000.0]\n",
      " [2 38.0 61000.0]\n",
      " [1 40.0 63777.77777777778]\n",
      " [0 35.0 58000.0]\n",
      " [2 38.77777777777778 52000.0]\n",
      " [0 48.0 79000.0]\n",
      " [1 50.0 83000.0]\n",
      " [0 37.0 67000.0]]\n",
      "[[0]\n",
      " [1]\n",
      " [0]\n",
      " [0]\n",
      " [1]\n",
      " [1]\n",
      " [0]\n",
      " [1]\n",
      " [0]\n",
      " [1]]\n"
     ]
    }
   ],
   "source": [
    "#using encoder to encode string data\n",
    "\n",
    "from sklearn.preprocessing import LabelEncoder , OneHotEncoder\n",
    "\n",
    "encoder=LabelEncoder()\n",
    "features[:,0]=encoder.fit_transform(features[:,0])\n",
    "print features\n",
    "#encoded_labels=LabelEncoder()\n",
    "label[:,0]=encoder.fit_transform(label[:,0])\n",
    "print label"
   ]
  },
  {
   "cell_type": "code",
   "execution_count": 70,
   "metadata": {},
   "outputs": [
    {
     "name": "stdout",
     "output_type": "stream",
     "text": [
      "[[  0.00000000e+00   1.00000000e+00   0.00000000e+00   0.00000000e+00\n",
      "    4.40000000e+01   7.20000000e+04]\n",
      " [  1.00000000e+00   0.00000000e+00   0.00000000e+00   1.00000000e+00\n",
      "    2.70000000e+01   4.80000000e+04]\n",
      " [  1.00000000e+00   0.00000000e+00   1.00000000e+00   0.00000000e+00\n",
      "    3.00000000e+01   5.40000000e+04]\n",
      " [  1.00000000e+00   0.00000000e+00   0.00000000e+00   1.00000000e+00\n",
      "    3.80000000e+01   6.10000000e+04]\n",
      " [  1.00000000e+00   0.00000000e+00   1.00000000e+00   0.00000000e+00\n",
      "    4.00000000e+01   6.37777778e+04]\n",
      " [  0.00000000e+00   1.00000000e+00   0.00000000e+00   0.00000000e+00\n",
      "    3.50000000e+01   5.80000000e+04]\n",
      " [  1.00000000e+00   0.00000000e+00   0.00000000e+00   1.00000000e+00\n",
      "    3.87777778e+01   5.20000000e+04]\n",
      " [  0.00000000e+00   1.00000000e+00   0.00000000e+00   0.00000000e+00\n",
      "    4.80000000e+01   7.90000000e+04]\n",
      " [  1.00000000e+00   0.00000000e+00   1.00000000e+00   0.00000000e+00\n",
      "    5.00000000e+01   8.30000000e+04]\n",
      " [  0.00000000e+00   1.00000000e+00   0.00000000e+00   0.00000000e+00\n",
      "    3.70000000e+01   6.70000000e+04]]\n"
     ]
    }
   ],
   "source": [
    "#using onehotencoder to clear the magnitude problem\n",
    "\n",
    "onehotencoder=OneHotEncoder(categorical_features=[0])\n",
    "features=onehotencoder.fit_transform(features).toarray()\n",
    "print features"
   ]
  },
  {
   "cell_type": "code",
   "execution_count": 76,
   "metadata": {},
   "outputs": [
    {
     "name": "stdout",
     "output_type": "stream",
     "text": [
      "featues train  [[0]\n",
      " [0]\n",
      " [1]\n",
      " [1]]\n"
     ]
    }
   ],
   "source": [
    "#divide the data frame into train and test data\n",
    "from sklearn.model_selection import train_test_split\n",
    "\n",
    "\n",
    "features_train, features_test, label_train, label_test=train_test_split(features,label,test_size=0.33, random_state=0)\n",
    "#print \"featues train \",label_test \n",
    "#features_test , label_train , label_train\n"
   ]
  },
  {
   "cell_type": "code",
   "execution_count": null,
   "metadata": {},
   "outputs": [],
   "source": [
    "#scaling down the magnitudes of the features\n",
    "from sklearn.preprocessing import StandardScaler\n",
    "scalar=StandardScaler()\n",
    "features_test=scalar.fit_transform(features_test)\n",
    "features_train=scalar.transform(features_train)"
   ]
  }
 ],
 "metadata": {
  "kernelspec": {
   "display_name": "Python 2",
   "language": "python",
   "name": "python2"
  },
  "language_info": {
   "codemirror_mode": {
    "name": "ipython",
    "version": 2
   },
   "file_extension": ".py",
   "mimetype": "text/x-python",
   "name": "python",
   "nbconvert_exporter": "python",
   "pygments_lexer": "ipython2",
   "version": "2.7.13"
  }
 },
 "nbformat": 4,
 "nbformat_minor": 2
}
